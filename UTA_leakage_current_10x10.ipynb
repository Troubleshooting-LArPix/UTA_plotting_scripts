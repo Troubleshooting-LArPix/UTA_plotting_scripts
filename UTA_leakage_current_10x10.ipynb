{
 "cells": [
  {
   "cell_type": "code",
   "execution_count": 22,
   "metadata": {},
   "outputs": [],
   "source": [
    "%matplotlib inline\n",
    "\n",
    "import numpy as np\n",
    "import pandas as pd\n",
    "import matplotlib.pyplot as plt\n",
    "from matplotlib.colors import LogNorm\n",
    "import seaborn as sns\n",
    "\n",
    "import h5py\n",
    "import os\n",
    "import time"
   ]
  },
  {
   "cell_type": "code",
   "execution_count": null,
   "metadata": {},
   "outputs": [],
   "source": []
  },
  {
   "cell_type": "code",
   "execution_count": 2,
   "metadata": {},
   "outputs": [],
   "source": [
    "PATH = 'data_files/datalog_2021_01_29_13_54_29_CST_.h5'"
   ]
  },
  {
   "cell_type": "code",
   "execution_count": 3,
   "metadata": {},
   "outputs": [],
   "source": [
    "file = h5py.File(PATH, 'r')"
   ]
  },
  {
   "cell_type": "code",
   "execution_count": 4,
   "metadata": {},
   "outputs": [
    {
     "data": {
      "text/plain": [
       "array([(1, 1,  1, 2, 0, 1, 1, 58,  45, 0, 0, 0, 0, 122,  11, 0, 0, 0, 0, 0, 0, 0),\n",
       "       (1, 1, 11, 2, 0, 0, 1, 61, 965, 0, 0, 0, 0, 125, 241, 0, 0, 0, 0, 0, 0, 0),\n",
       "       (1, 1, 11, 2, 0, 1, 1, 60,  17, 0, 0, 0, 0, 124,   4, 0, 0, 0, 0, 0, 0, 0),\n",
       "       (1, 1,  1, 2, 0, 1, 0, 58,  49, 0, 0, 0, 0, 122,  12, 0, 0, 0, 0, 0, 0, 0),\n",
       "       (1, 1, 12, 2, 0, 1, 1, 61, 965, 0, 0, 0, 0, 125, 241, 0, 0, 0, 0, 0, 0, 0),\n",
       "       (1, 1, 12, 2, 0, 0, 1, 60,  17, 0, 0, 0, 0, 124,   4, 0, 0, 0, 0, 0, 0, 0),\n",
       "       (1, 1,  1, 2, 0, 1, 1, 58,  53, 0, 0, 0, 0, 122,  13, 0, 0, 0, 0, 0, 0, 0),\n",
       "       (1, 1, 13, 2, 0, 0, 1, 61, 965, 0, 0, 0, 0, 125, 241, 0, 0, 0, 0, 0, 0, 0),\n",
       "       (1, 1, 13, 2, 0, 1, 1, 60,  17, 0, 0, 0, 0, 124,   4, 0, 0, 0, 0, 0, 0, 0),\n",
       "       (1, 1,  1, 2, 0, 1, 1, 58,  57, 0, 0, 0, 0, 122,  14, 0, 0, 0, 0, 0, 0, 0),\n",
       "       (1, 1, 14, 2, 0, 0, 1, 61, 965, 0, 0, 0, 0, 125, 241, 0, 0, 0, 0, 0, 0, 0),\n",
       "       (1, 1, 14, 2, 0, 1, 1, 60,  17, 0, 0, 0, 0, 124,   4, 0, 0, 0, 0, 0, 0, 0),\n",
       "       (1, 1,  1, 2, 0, 1, 0, 58,  61, 0, 0, 0, 0, 122,  15, 0, 0, 0, 0, 0, 0, 0),\n",
       "       (1, 1, 15, 2, 0, 1, 1, 61, 965, 0, 0, 0, 0, 125, 241, 0, 0, 0, 0, 0, 0, 0),\n",
       "       (1, 1, 15, 2, 0, 0, 1, 60,  17, 0, 0, 0, 0, 124,   4, 0, 0, 0, 0, 0, 0, 0),\n",
       "       (1, 1,  1, 2, 0, 1, 1, 58,  65, 0, 0, 0, 0, 122,  16, 0, 0, 0, 0, 0, 0, 0),\n",
       "       (1, 1, 16, 2, 0, 0, 1, 61, 965, 0, 0, 0, 0, 125, 241, 0, 0, 0, 0, 0, 0, 0),\n",
       "       (1, 1, 16, 2, 0, 1, 1, 60,  17, 0, 0, 0, 0, 124,   4, 0, 0, 0, 0, 0, 0, 0),\n",
       "       (1, 1,  1, 2, 0, 1, 0, 58,  69, 0, 0, 0, 0, 122,  17, 0, 0, 0, 0, 0, 0, 0),\n",
       "       (1, 1, 17, 2, 0, 1, 1, 61, 965, 0, 0, 0, 0, 125, 241, 0, 0, 0, 0, 0, 0, 0),\n",
       "       (1, 1, 17, 2, 0, 0, 1, 60,  17, 0, 0, 0, 0, 124,   4, 0, 0, 0, 0, 0, 0, 0),\n",
       "       (1, 1,  1, 2, 0, 1, 0, 58,  73, 0, 0, 0, 0, 122,  18, 0, 0, 0, 0, 0, 0, 0),\n",
       "       (1, 1, 18, 2, 0, 1, 1, 61, 965, 0, 0, 0, 0, 125, 241, 0, 0, 0, 0, 0, 0, 0),\n",
       "       (1, 1, 18, 2, 0, 0, 1, 60,  17, 0, 0, 0, 0, 124,   4, 0, 0, 0, 0, 0, 0, 0),\n",
       "       (1, 1,  1, 2, 0, 1, 1, 58,  77, 0, 0, 0, 0, 122,  19, 0, 0, 0, 0, 0, 0, 0),\n",
       "       (1, 1, 19, 2, 0, 0, 1, 61, 965, 0, 0, 0, 0, 125, 241, 0, 0, 0, 0, 0, 0, 0),\n",
       "       (1, 1, 19, 2, 0, 1, 1, 60,  17, 0, 0, 0, 0, 124,   4, 0, 0, 0, 0, 0, 0, 0),\n",
       "       (1, 1,  1, 2, 0, 1, 0, 58,  81, 0, 0, 0, 0, 122,  20, 0, 0, 0, 0, 0, 0, 0),\n",
       "       (1, 1, 20, 2, 0, 1, 1, 61, 965, 0, 0, 0, 0, 125, 241, 0, 0, 0, 0, 0, 0, 0),\n",
       "       (1, 1, 20, 2, 0, 0, 1, 60,   9, 0, 0, 0, 0, 124,   2, 0, 0, 0, 0, 0, 0, 0)],\n",
       "      dtype=[('io_group', 'u1'), ('io_channel', 'u1'), ('chip_id', 'u1'), ('packet_type', 'u1'), ('downstream_marker', 'u1'), ('parity', 'u1'), ('valid_parity', 'u1'), ('channel_id', 'u1'), ('timestamp', '<u8'), ('dataword', 'u1'), ('trigger_type', 'u1'), ('local_fifo', 'u1'), ('shared_fifo', 'u1'), ('register_address', 'u1'), ('register_data', 'u1'), ('direction', 'u1'), ('local_fifo_events', 'u1'), ('shared_fifo_events', '<u2'), ('counter', '<u4'), ('fifo_diagnostics_enabled', 'u1'), ('first_packet', 'u1'), ('receipt_timestamp', '<u4')])"
      ]
     },
     "execution_count": 4,
     "metadata": {},
     "output_type": "execute_result"
    }
   ],
   "source": [
    "packets = file['packets']\n",
    "packets[:30]"
   ]
  },
  {
   "cell_type": "code",
   "execution_count": null,
   "metadata": {},
   "outputs": [],
   "source": []
  },
  {
   "cell_type": "code",
   "execution_count": 5,
   "metadata": {},
   "outputs": [
    {
     "data": {
      "text/plain": [
       "array([ 0,  1,  2,  3,  4,  5,  6,  7,  8,  9, 10, 11, 12, 13, 14, 15, 16,\n",
       "       17, 18, 19, 20, 21, 22, 23, 24, 25, 26, 27, 28, 29, 30, 31, 32, 33,\n",
       "       34, 35, 36, 37, 38, 39, 40, 41, 42, 43, 44, 45, 46, 47, 48, 49, 50,\n",
       "       51, 52, 53, 54, 55, 56, 57, 58, 59, 60, 61, 62, 63], dtype=uint8)"
      ]
     },
     "execution_count": 5,
     "metadata": {},
     "output_type": "execute_result"
    }
   ],
   "source": [
    "np.unique(packets['channel_id'])"
   ]
  },
  {
   "cell_type": "code",
   "execution_count": 6,
   "metadata": {},
   "outputs": [
    {
     "data": {
      "text/plain": [
       "array([  0,   1,  11,  12,  13,  14,  15,  16,  17,  18,  19,  20,  21,\n",
       "        22,  23,  24,  25,  26,  27,  28,  29,  30,  31,  32,  33,  34,\n",
       "        35,  36,  37,  38,  39,  40,  41,  42,  43,  44,  45,  46,  47,\n",
       "        48,  49,  50,  51,  52,  53,  54,  55,  56,  57,  58,  59,  60,\n",
       "        61,  62,  63,  64,  65,  66,  67,  68,  69,  70,  71,  72,  73,\n",
       "        74,  75,  76,  77,  78,  79,  80,  81,  82,  83,  84,  85,  86,\n",
       "        87,  88,  89,  90,  91,  92,  93,  94,  95,  96,  97,  98,  99,\n",
       "       100, 101, 102, 103, 104, 105, 106, 107, 108, 109, 110, 112, 116,\n",
       "       120, 218], dtype=uint8)"
      ]
     },
     "execution_count": 6,
     "metadata": {},
     "output_type": "execute_result"
    }
   ],
   "source": [
    "np.unique(packets['chip_id'])"
   ]
  },
  {
   "cell_type": "code",
   "execution_count": 7,
   "metadata": {},
   "outputs": [
    {
     "data": {
      "text/plain": [
       "array([  0,   1,   2,   3,   4,   5,   6,   7,   8,   9,  10,  11,  12,\n",
       "        13,  14,  15,  16,  17,  18,  19,  20,  21,  22,  23,  24,  25,\n",
       "        26,  27,  28,  29,  30,  31,  32,  33,  34,  35,  36,  37,  38,\n",
       "        39,  40,  41,  42,  43,  44,  45,  46,  47,  48,  49,  50,  51,\n",
       "        52,  53,  54,  55,  56,  57,  58,  59,  60,  61,  62,  63,  64,\n",
       "        65,  66,  67,  68,  69,  70,  71,  72,  73,  74,  75,  76,  77,\n",
       "        78,  79,  80,  81,  82,  83,  84,  85,  86,  87,  88,  89,  90,\n",
       "        91,  92,  93,  94,  95,  96,  97,  98,  99, 100, 101, 102, 103,\n",
       "       104, 105, 106, 107, 108, 109, 110, 111, 112, 113, 114, 115, 116,\n",
       "       117, 118, 119, 120, 121, 122, 123, 124, 125, 126, 127, 128, 129,\n",
       "       130, 131, 132, 133, 134, 135, 136, 137, 138, 139, 140, 141, 142,\n",
       "       143, 144, 145, 146, 147, 148, 149, 150, 151, 152, 153, 154, 155,\n",
       "       156, 157, 158, 159, 160, 161, 162, 163, 164, 165, 166, 167, 168,\n",
       "       169, 170, 171, 172, 173, 174, 175, 176, 177, 178, 179, 180, 181,\n",
       "       182, 183, 184, 185, 186, 187, 188, 189, 190, 191, 192, 193, 194,\n",
       "       195, 196, 197, 198, 199, 200, 201, 202, 203, 204, 205, 206, 207,\n",
       "       208, 209, 210, 211, 212, 213, 214, 215, 216, 217, 218, 219, 220,\n",
       "       221, 222, 223, 224, 225, 226, 227, 228, 229, 230, 231, 232, 233,\n",
       "       234, 235, 236, 237, 238, 239, 240, 241, 242, 243, 244, 245, 246,\n",
       "       247, 248, 249, 250, 251, 252, 253, 254, 255], dtype=uint8)"
      ]
     },
     "execution_count": 7,
     "metadata": {},
     "output_type": "execute_result"
    }
   ],
   "source": [
    "np.unique(packets['dataword'])"
   ]
  },
  {
   "cell_type": "code",
   "execution_count": null,
   "metadata": {},
   "outputs": [],
   "source": []
  },
  {
   "cell_type": "code",
   "execution_count": 19,
   "metadata": {},
   "outputs": [
    {
     "name": "stdout",
     "output_type": "stream",
     "text": [
      "opening /Volumes/deleon_py/larpix_test_files/leakage_current_data/datalog_2021_01_29_13_54_29_CST_.h5\n",
      "chip: 82.0\tchannel: 0.0\trate: 55.48\tleakage: 6942.07\n",
      "chip: 82.0\tchannel: 4.0\trate: 61.04\tleakage: 7637.53\n",
      "chip: 82.0\tchannel: 5.0\trate: 55.02\tleakage: 6883.69\n",
      "chip: 82.0\tchannel: 6.0\trate: 88.22\tleakage: 11038.71\n",
      "chip: 82.0\tchannel: 8.0\trate: 55.17\tleakage: 6903.50\n",
      "chip: 82.0\tchannel: 9.0\trate: 57.08\tleakage: 7141.22\n",
      "chip: 82.0\tchannel: 10.0\trate: 58.36\tleakage: 7301.79\n",
      "chip: 82.0\tchannel: 11.0\trate: 92.84\tleakage: 11616.35\n",
      "chip: 82.0\tchannel: 12.0\trate: 56.66\tleakage: 7089.09\n",
      "chip: 103.0\tchannel: 28.0\trate: 746.23\tleakage: 93368.71\n",
      "chip: 106.0\tchannel: 5.0\trate: 418.54\tleakage: 52367.93\n",
      "chip: 110.0\tchannel: 43.0\trate: 109.95\tleakage: 13756.94\n"
     ]
    },
    {
     "data": {
      "image/png": "[encoded data removed]",
      "text/plain": [
       "<Figure size 432x288 with 2 Axes>"
      ]
     },
     "metadata": {
      "needs_background": "light"
     },
     "output_type": "display_data"
    }
   ],
   "source": [
    "import h5py\n",
    "import matplotlib.pyplot as plt\n",
    "import matplotlib.ticker as ticker\n",
    "import numpy as np\n",
    "from scipy.stats import norm, mode\n",
    "import sys\n",
    "import time\n",
    "\n",
    "threshold = 128\n",
    "gain = 4 # mV /ke-\n",
    "runtime = 120\n",
    "lsb = 3.91\n",
    "#vref = 1.546 V\n",
    "#vcm = 544 mV\n",
    "\n",
    "nonrouted_channels = [6,7,8,9,\n",
    "                      22,23,24,25,\n",
    "                      38,39,40,\n",
    "                      54,55,56,57]\n",
    "\n",
    "def unique_channel_id(io_group, io_channel, chip_id, channel_id):\n",
    "    return channel_id + 64 * (chip_id + 255 * (io_channel + 255 * (io_group)))\n",
    "\n",
    "def plot_summary(data):\n",
    "    parameters = {'axes.labelseize' : 15,\n",
    "                  'xtick.labelsize' : 15,\n",
    "                  'ytick.labelsize' : 15 }\n",
    "    plot_exists = plt.fignum_exists('summary')\n",
    "    if plot_exists:\n",
    "        fig = plt.figure('summary')\n",
    "        axes = fig.axes\n",
    "    else:\n",
    "        fig,axes = plt.subplots(2, 1, sharex = 'col', num = 'summary')\n",
    "    fig.subplots_adjust(hspace = 0)\n",
    "\n",
    "    channels = [(channel // 64) % 255 for channel in sorted(data.keys()) if channel % 64 not in nonrouted_channels]\n",
    "    ch_rate = [data[channel]['rate'] for channel in sorted(data.keys()) if channel % 64 not in nonrouted_channels]\n",
    "    ch_leakage = [data[channel]['leakage'] for channel in sorted(data.keys()) if channel % 64 not in nonrouted_channels]\n",
    "\n",
    "    axes[0].plot(channels,ch_rate,'.')\n",
    "    axes[1].plot(channels,ch_leakage,'.')\n",
    "    axes[1].set(xlabel = 'Chip ID')\n",
    "    axes[0].set(ylabel = 'Rate [Hz]')\n",
    "    axes[1].set(ylabel = 'Leakage Current [e- / ms] ')\n",
    "    axes[0].set(yscale = 'log')\n",
    "    axes[1].set(yscale = 'log')\n",
    "    plt.show()\n",
    "\n",
    "    \n",
    "\n",
    "def main():\n",
    "    global leakage_data_arr\n",
    "    filename = PATH\n",
    "    print('opening',filename)\n",
    "    plt.ion()\n",
    "    f = h5py.File(filename,'r')\n",
    "    \n",
    "    leakage_data_arr = []\n",
    "\n",
    "    data_mask = f['packets'][:]['packet_type'] == 0\n",
    "    valid_parity_mask = f['packets'][data_mask]['valid_parity'] == 1\n",
    "    good_data = (f['packets'][data_mask])[valid_parity_mask]\n",
    "\n",
    "    io_group = good_data['io_group'].astype(np.uint64)\n",
    "    io_channel = good_data['io_channel'].astype(np.uint64)\n",
    "    chip_id = good_data['chip_id'].astype(np.uint64)\n",
    "    channel_id = good_data['channel_id'].astype(np.uint64)\n",
    "    unique_channels = set(unique_channel_id(io_group, io_channel, chip_id, channel_id))\n",
    "    \n",
    "    data = dict()\n",
    "    for channel in sorted(unique_channels):\n",
    "        channel_mask = unique_channel_id(io_group, io_channel, chip_id, channel_id) == channel\n",
    "        timestamp = good_data[channel_mask]['timestamp']\n",
    "        adc = good_data[channel_mask]['dataword']\n",
    "        rate_i = len(adc) / runtime\n",
    "\n",
    "        data[channel] = dict(\n",
    "            channel_mask = channel_mask,\n",
    "            timestamp = timestamp,\n",
    "            adc = adc,\n",
    "            rate = rate_i,\n",
    "            leakage = (rate_i) * threshold * lsb * (1000 / gain) / 1000 # e- / ms\n",
    "            )\n",
    "        leakage_data_arr.append([(channel // 64) % 255, channel % 64, data[channel]['rate'], data[channel]['leakage']])\n",
    "        if rate_i > 50:\n",
    "            print('chip: {}\\tchannel: {}\\trate: {:.02f}\\tleakage: {:.02f}'.format((channel // 64) % 255, channel % 64, data[channel]['rate'], data[channel]['leakage']))\n",
    "    return data\n",
    "                  \n",
    "if __name__ == '__main__':\n",
    "    data = main()\n",
    "    #print(data)\n",
    "    plot_summary(data)\n",
    "    #time.sleep(10)"
   ]
  },
  {
   "cell_type": "code",
   "execution_count": 9,
   "metadata": {},
   "outputs": [
    {
     "data": {
      "text/plain": [
       "array([8.33333333e-03, 1.66666667e-02, 2.50000000e-02, 3.33333333e-02,\n",
       "       4.16666667e-02, 5.00000000e-02, 5.83333333e-02, 6.66666667e-02,\n",
       "       7.50000000e-02, 8.33333333e-02, 9.16666667e-02, 1.00000000e-01,\n",
       "       1.08333333e-01, 1.16666667e-01, 1.25000000e-01, 1.33333333e-01,\n",
       "       1.41666667e-01, 1.50000000e-01, 1.58333333e-01, 1.66666667e-01,\n",
       "       1.75000000e-01, 1.83333333e-01, 1.91666667e-01, 2.00000000e-01,\n",
       "       2.08333333e-01, 2.16666667e-01, 2.25000000e-01, 2.33333333e-01,\n",
       "       2.41666667e-01, 2.50000000e-01, 2.58333333e-01, 2.66666667e-01,\n",
       "       2.75000000e-01, 2.83333333e-01, 2.91666667e-01, 3.00000000e-01,\n",
       "       3.08333333e-01, 3.16666667e-01, 3.25000000e-01, 3.41666667e-01,\n",
       "       3.50000000e-01, 3.58333333e-01, 3.66666667e-01, 3.83333333e-01,\n",
       "       3.91666667e-01, 4.00000000e-01, 4.08333333e-01, 4.16666667e-01,\n",
       "       4.33333333e-01, 4.41666667e-01, 4.50000000e-01, 4.58333333e-01,\n",
       "       4.66666667e-01, 4.75000000e-01, 4.91666667e-01, 5.00000000e-01,\n",
       "       5.08333333e-01, 5.16666667e-01, 5.25000000e-01, 5.33333333e-01,\n",
       "       5.41666667e-01, 5.50000000e-01, 5.75000000e-01, 5.83333333e-01,\n",
       "       5.91666667e-01, 6.00000000e-01, 6.08333333e-01, 6.16666667e-01,\n",
       "       6.25000000e-01, 6.41666667e-01, 6.50000000e-01, 6.58333333e-01,\n",
       "       6.66666667e-01, 6.75000000e-01, 6.83333333e-01, 6.91666667e-01,\n",
       "       7.08333333e-01, 7.16666667e-01, 7.25000000e-01, 7.33333333e-01,\n",
       "       7.41666667e-01, 7.50000000e-01, 7.66666667e-01, 7.75000000e-01,\n",
       "       7.91666667e-01, 8.00000000e-01, 8.08333333e-01, 8.25000000e-01,\n",
       "       8.33333333e-01, 8.50000000e-01, 8.58333333e-01, 8.66666667e-01,\n",
       "       8.91666667e-01, 9.16666667e-01, 9.25000000e-01, 9.33333333e-01,\n",
       "       9.41666667e-01, 9.50000000e-01, 9.58333333e-01, 9.66666667e-01,\n",
       "       9.91666667e-01, 1.00833333e+00, 1.02500000e+00, 1.05000000e+00,\n",
       "       1.05833333e+00, 1.08333333e+00, 1.09166667e+00, 1.10000000e+00,\n",
       "       1.12500000e+00, 1.13333333e+00, 1.18333333e+00, 1.23333333e+00,\n",
       "       1.24166667e+00, 1.27500000e+00, 1.29166667e+00, 1.30000000e+00,\n",
       "       1.44166667e+00, 1.45000000e+00, 1.50833333e+00, 1.52500000e+00,\n",
       "       1.54166667e+00, 1.56666667e+00, 1.57500000e+00, 1.59166667e+00,\n",
       "       1.60000000e+00, 1.60833333e+00, 1.63333333e+00, 1.64166667e+00,\n",
       "       1.65000000e+00, 1.67500000e+00, 1.70000000e+00, 1.71666667e+00,\n",
       "       1.72500000e+00, 1.78333333e+00, 1.90833333e+00, 1.91666667e+00,\n",
       "       1.98333333e+00, 1.99166667e+00, 2.01666667e+00, 2.22500000e+00,\n",
       "       2.27500000e+00, 2.28333333e+00, 2.50000000e+00, 2.55833333e+00,\n",
       "       2.58333333e+00, 2.65000000e+00, 2.66666667e+00, 2.67500000e+00,\n",
       "       2.69166667e+00, 2.70833333e+00, 2.74166667e+00, 2.75833333e+00,\n",
       "       2.78333333e+00, 2.79166667e+00, 2.84166667e+00, 2.85000000e+00,\n",
       "       2.85833333e+00, 2.95833333e+00, 2.96666667e+00, 2.98333333e+00,\n",
       "       3.20000000e+00, 3.22500000e+00, 3.33333333e+00, 3.35000000e+00,\n",
       "       3.46666667e+00, 3.82500000e+00, 3.85000000e+00, 4.11666667e+00,\n",
       "       4.57500000e+00, 4.59166667e+00, 4.78333333e+00, 4.84166667e+00,\n",
       "       5.21666667e+00, 6.39166667e+00, 6.54166667e+00, 1.06833333e+01,\n",
       "       1.14750000e+01, 1.19500000e+01, 3.45083333e+01, 4.72666667e+01,\n",
       "       5.50166667e+01, 5.51750000e+01, 5.54833333e+01, 5.66583333e+01,\n",
       "       5.70750000e+01, 5.83583333e+01, 6.10416667e+01, 8.82250000e+01,\n",
       "       9.28416667e+01, 1.09950000e+02, 4.18541667e+02, 7.46233333e+02])"
      ]
     },
     "execution_count": 9,
     "metadata": {},
     "output_type": "execute_result"
    }
   ],
   "source": [
    "leakage_data_arr = np.array(leakage_data_arr)\n",
    "leakage_data_arr"
   ]
  },
  {
   "cell_type": "code",
   "execution_count": null,
   "metadata": {},
   "outputs": [],
   "source": []
  },
  {
   "cell_type": "code",
   "execution_count": 10,
   "metadata": {},
   "outputs": [],
   "source": [
    "leakage_processed_arr = []\n",
    "\n",
    "for chip_id in np.unique(leakage_data_arr[:,0]):\n",
    "    for channel_id in np.unique(leakage_data_arr[:,1]):\n",
    "        leakage_processed_arr.append([int(chip_id), int(channel_id), 0, 0])\n",
    "        \n",
    "for index in leakage_processed_arr:\n",
    "    for raw_index in leakage_data_arr:\n",
    "        if ((int(raw_index[0]) == int(index[0])) and (int(raw_index[1]) == int(index[1]))):\n",
    "            index[2] = raw_index[2]\n",
    "            index[3] = raw_index[3]"
   ]
  },
  {
   "cell_type": "code",
   "execution_count": 11,
   "metadata": {},
   "outputs": [
    {
     "name": "stdout",
     "output_type": "stream",
     "text": [
      "193\n",
      "192\n"
     ]
    }
   ],
   "source": [
    "leakage_processed_arr = np.array(leakage_processed_arr)\n",
    "print(len(np.unique(leakage_processed_arr[:,2])))\n",
    "print(len(np.unique(leakage_data_arr[:,2])))"
   ]
  },
  {
   "cell_type": "code",
   "execution_count": null,
   "metadata": {},
   "outputs": [],
   "source": []
  },
  {
   "cell_type": "code",
   "execution_count": 17,
   "metadata": {},
   "outputs": [
    {
     "data": {
      "text/plain": [
       "[[11.0, 0.0, 0.075, 9.384],\n",
       " [11.0, 1.0, 0.075, 9.384],\n",
       " [11.0, 2.0, 0.075, 9.384],\n",
       " [11.0, 3.0, 0.075, 9.384],\n",
       " [11.0, 4.0, 0.06666666666666667, 8.341333333333335],\n",
       " [11.0, 5.0, 0.06666666666666667, 8.341333333333335],\n",
       " [11.0, 6.0, 0.06666666666666667, 8.341333333333335],\n",
       " [11.0, 7.0, 0.075, 9.384],\n",
       " [11.0, 9.0, 0.041666666666666664, 5.213333333333333],\n",
       " [11.0, 10.0, 0.058333333333333334, 7.298666666666667],\n",
       " [11.0, 11.0, 0.06666666666666667, 8.341333333333335],\n",
       " [11.0, 12.0, 0.06666666666666667, 8.341333333333335],\n",
       " [11.0, 13.0, 0.09166666666666666, 11.469333333333333],\n",
       " [11.0, 14.0, 0.06666666666666667, 8.341333333333335],\n",
       " [11.0, 15.0, 0.058333333333333334, 7.298666666666667],\n",
       " [11.0, 16.0, 0.05, 6.256],\n",
       " [11.0, 17.0, 0.06666666666666667, 8.341333333333335],\n",
       " [11.0, 18.0, 0.08333333333333333, 10.426666666666666],\n",
       " [11.0, 19.0, 0.075, 9.384],\n",
       " [11.0, 20.0, 0.075, 9.384],\n",
       " [11.0, 21.0, 0.06666666666666667, 8.341333333333335],\n",
       " [11.0, 22.0, 0.058333333333333334, 7.298666666666667],\n",
       " [11.0, 23.0, 0.008333333333333333, 1.0426666666666669],\n",
       " [11.0, 24.0, 0.06666666666666667, 8.341333333333335],\n",
       " [11.0, 25.0, 0.075, 9.384],\n",
       " [11.0, 26.0, 0.058333333333333334, 7.298666666666667],\n",
       " [11.0, 27.0, 0.09166666666666666, 11.469333333333333],\n",
       " [11.0, 28.0, 0.075, 9.384],\n",
       " [11.0, 29.0, 0.11666666666666667, 14.597333333333333],\n",
       " [11.0, 30.0, 0.1, 12.512],\n",
       " [11.0, 31.0, 0.075, 9.384],\n",
       " [11.0, 32.0, 0.10833333333333334, 13.554666666666668]]"
      ]
     },
     "execution_count": 17,
     "metadata": {},
     "output_type": "execute_result"
    }
   ],
   "source": [
    "leakage_data_arr[:32]"
   ]
  },
  {
   "cell_type": "code",
   "execution_count": 18,
   "metadata": {},
   "outputs": [
    {
     "data": {
      "text/plain": [
       "array([[1.10000000e+01, 0.00000000e+00, 7.50000000e-02, 9.38400000e+00],\n",
       "       [1.10000000e+01, 1.00000000e+00, 7.50000000e-02, 9.38400000e+00],\n",
       "       [1.10000000e+01, 2.00000000e+00, 7.50000000e-02, 9.38400000e+00],\n",
       "       [1.10000000e+01, 3.00000000e+00, 7.50000000e-02, 9.38400000e+00],\n",
       "       [1.10000000e+01, 4.00000000e+00, 6.66666667e-02, 8.34133333e+00],\n",
       "       [1.10000000e+01, 5.00000000e+00, 6.66666667e-02, 8.34133333e+00],\n",
       "       [1.10000000e+01, 6.00000000e+00, 6.66666667e-02, 8.34133333e+00],\n",
       "       [1.10000000e+01, 7.00000000e+00, 7.50000000e-02, 9.38400000e+00],\n",
       "       [1.10000000e+01, 8.00000000e+00, 0.00000000e+00, 0.00000000e+00],\n",
       "       [1.10000000e+01, 9.00000000e+00, 4.16666667e-02, 5.21333333e+00],\n",
       "       [1.10000000e+01, 1.00000000e+01, 5.83333333e-02, 7.29866667e+00],\n",
       "       [1.10000000e+01, 1.10000000e+01, 6.66666667e-02, 8.34133333e+00],\n",
       "       [1.10000000e+01, 1.20000000e+01, 6.66666667e-02, 8.34133333e+00],\n",
       "       [1.10000000e+01, 1.30000000e+01, 9.16666667e-02, 1.14693333e+01],\n",
       "       [1.10000000e+01, 1.40000000e+01, 6.66666667e-02, 8.34133333e+00],\n",
       "       [1.10000000e+01, 1.50000000e+01, 5.83333333e-02, 7.29866667e+00],\n",
       "       [1.10000000e+01, 1.60000000e+01, 5.00000000e-02, 6.25600000e+00],\n",
       "       [1.10000000e+01, 1.70000000e+01, 6.66666667e-02, 8.34133333e+00],\n",
       "       [1.10000000e+01, 1.80000000e+01, 8.33333333e-02, 1.04266667e+01],\n",
       "       [1.10000000e+01, 1.90000000e+01, 7.50000000e-02, 9.38400000e+00],\n",
       "       [1.10000000e+01, 2.00000000e+01, 7.50000000e-02, 9.38400000e+00],\n",
       "       [1.10000000e+01, 2.10000000e+01, 6.66666667e-02, 8.34133333e+00],\n",
       "       [1.10000000e+01, 2.20000000e+01, 5.83333333e-02, 7.29866667e+00],\n",
       "       [1.10000000e+01, 2.30000000e+01, 8.33333333e-03, 1.04266667e+00],\n",
       "       [1.10000000e+01, 2.40000000e+01, 6.66666667e-02, 8.34133333e+00],\n",
       "       [1.10000000e+01, 2.50000000e+01, 7.50000000e-02, 9.38400000e+00],\n",
       "       [1.10000000e+01, 2.60000000e+01, 5.83333333e-02, 7.29866667e+00],\n",
       "       [1.10000000e+01, 2.70000000e+01, 9.16666667e-02, 1.14693333e+01],\n",
       "       [1.10000000e+01, 2.80000000e+01, 7.50000000e-02, 9.38400000e+00],\n",
       "       [1.10000000e+01, 2.90000000e+01, 1.16666667e-01, 1.45973333e+01],\n",
       "       [1.10000000e+01, 3.00000000e+01, 1.00000000e-01, 1.25120000e+01],\n",
       "       [1.10000000e+01, 3.10000000e+01, 7.50000000e-02, 9.38400000e+00]])"
      ]
     },
     "execution_count": 18,
     "metadata": {},
     "output_type": "execute_result"
    }
   ],
   "source": [
    "leakage_processed_arr[:32]"
   ]
  },
  {
   "cell_type": "code",
   "execution_count": null,
   "metadata": {},
   "outputs": [],
   "source": []
  },
  {
   "cell_type": "code",
   "execution_count": null,
   "metadata": {},
   "outputs": [],
   "source": []
  },
  {
   "cell_type": "code",
   "execution_count": null,
   "metadata": {},
   "outputs": [],
   "source": []
  },
  {
   "cell_type": "code",
   "execution_count": null,
   "metadata": {},
   "outputs": [],
   "source": []
  },
  {
   "cell_type": "code",
   "execution_count": 14,
   "metadata": {},
   "outputs": [],
   "source": [
    "chip_id = leakage_processed_arr[:,0].astype(int)\n",
    "channel_id = leakage_processed_arr[:,1].astype(int)\n",
    "rate = leakage_processed_arr[:,2]"
   ]
  },
  {
   "cell_type": "code",
   "execution_count": null,
   "metadata": {},
   "outputs": [],
   "source": []
  },
  {
   "cell_type": "code",
   "execution_count": null,
   "metadata": {},
   "outputs": [],
   "source": []
  },
  {
   "cell_type": "code",
   "execution_count": null,
   "metadata": {},
   "outputs": [],
   "source": []
  },
  {
   "cell_type": "code",
   "execution_count": null,
   "metadata": {},
   "outputs": [],
   "source": []
  },
  {
   "cell_type": "code",
   "execution_count": 42,
   "metadata": {},
   "outputs": [
    {
     "name": "stderr",
     "output_type": "stream",
     "text": [
      "<ipython-input-42-31e1213e26fa>:15: MatplotlibDeprecationWarning: shading='flat' when X and Y have the same dimensions as C is deprecated since 3.3.  Either specify the corners of the quadrilaterals with X and Y, or pass shading='auto', 'nearest' or 'gouraud', or set rcParams['pcolor.shading'].  This will become an error two minor releases later.\n",
      "  plt.pcolormesh(X, Y, Z, norm = LogNorm(), cmap = cmap, vmin = 1, vmax = 1000)\n",
      "<ipython-input-42-31e1213e26fa>:15: MatplotlibDeprecationWarning: Passing parameters norm and vmin/vmax simultaneously is deprecated since 3.3 and will become an error two minor releases later. Please pass vmin/vmax directly to the norm when creating it.\n",
      "  plt.pcolormesh(X, Y, Z, norm = LogNorm(), cmap = cmap, vmin = 1, vmax = 1000)\n"
     ]
    },
    {
     "data": {
      "text/plain": [
       "(0.0, 125.0)"
      ]
     },
     "execution_count": 42,
     "metadata": {},
     "output_type": "execute_result"
    },
    {
     "data": {
      "image/png": "[encoded data removed]",
      "text/plain": [
       "<Figure size 864x576 with 2 Axes>"
      ]
     },
     "metadata": {
      "needs_background": "light"
     },
     "output_type": "display_data"
    }
   ],
   "source": [
    "plt.figure(figsize = (12, 8))\n",
    "cmap = plt.get_cmap('Blues')\n",
    "\n",
    "x = channel_id\n",
    "y = chip_id\n",
    "z = rate\n",
    "\n",
    "x = np.unique(x)\n",
    "y = np.unique(y)\n",
    "X, Y = np.meshgrid(x, y)\n",
    "\n",
    "Z = z.reshape(len(y), len(x))\n",
    "#plt.pcolormesh(X, Y, Z, norm = LogNorm(), cmap = cmap, shading = 'auto')\n",
    "#plt.pcolormesh(X, Y, Z, cmap = cmap)#, vmin=0, vmax=5)\n",
    "plt.pcolormesh(X, Y, Z, norm = LogNorm(), cmap = cmap, vmin = 1, vmax = 1000)\n",
    "\n",
    "\n",
    "\n",
    "plt.xlabel(\"Channel ID\", fontsize = 20)\n",
    "plt.ylabel(\"Chip ID\",fontsize = 20)\n",
    "plt.xticks(fontsize = 18)\n",
    "plt.yticks(fontsize = 18)\n",
    "cb = plt.colorbar()\n",
    "\n",
    "#cb.ax.tick_params(labelsize=18)\n",
    "\n",
    "cb.set_label('Rate',fontsize=20)\n",
    "cb.ax.tick_params(labelsize=18)\n",
    "\n",
    "plt.xlim(0,64)\n",
    "plt.ylim(0,125)"
   ]
  },
  {
   "cell_type": "code",
   "execution_count": null,
   "metadata": {},
   "outputs": [],
   "source": []
  },
  {
   "cell_type": "code",
   "execution_count": null,
   "metadata": {},
   "outputs": [],
   "source": []
  },
  {
   "cell_type": "code",
   "execution_count": null,
   "metadata": {},
   "outputs": [],
   "source": []
  }
 ],
 "metadata": {
  "kernelspec": {
   "display_name": "venv_larpix_v3_4_0",
   "language": "python",
   "name": "venv_larpix_v3_4_0"
  },
  "language_info": {
   "codemirror_mode": {
    "name": "ipython",
    "version": 3
   },
   "file_extension": ".py",
   "mimetype": "text/x-python",
   "name": "python",
   "nbconvert_exporter": "python",
   "pygments_lexer": "ipython3",
   "version": "3.8.5"
  }
 },
 "nbformat": 4,
 "nbformat_minor": 4
}
