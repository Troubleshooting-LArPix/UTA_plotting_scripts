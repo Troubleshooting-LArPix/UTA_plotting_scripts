{
 "cells": [
  {
   "cell_type": "code",
   "execution_count": 1,
   "metadata": {},
   "outputs": [],
   "source": [
    "%matplotlib inline\n",
    "\n",
    "import numpy as np\n",
    "import pandas as pd\n",
    "import matplotlib.pyplot as plt\n",
    "import seaborn as sns\n",
    "\n",
    "import h5py\n",
    "import os\n",
    "import time"
   ]
  },
  {
   "cell_type": "code",
   "execution_count": null,
   "metadata": {},
   "outputs": [],
   "source": []
  },
  {
   "cell_type": "code",
   "execution_count": 2,
   "metadata": {},
   "outputs": [],
   "source": [
    "PATH = 'data_files/datalog_2021_01_20_12_25_50_CST_.h5'"
   ]
  },
  {
   "cell_type": "code",
   "execution_count": 3,
   "metadata": {},
   "outputs": [],
   "source": [
    "file = h5py.File(PATH, 'r')"
   ]
  },
  {
   "cell_type": "code",
   "execution_count": 4,
   "metadata": {},
   "outputs": [
    {
     "data": {
      "text/plain": [
       "<KeysViewHDF5 ['_header', 'configs', 'messages', 'packets']>"
      ]
     },
     "execution_count": 4,
     "metadata": {},
     "output_type": "execute_result"
    }
   ],
   "source": [
    "file.keys()"
   ]
  },
  {
   "cell_type": "code",
   "execution_count": 5,
   "metadata": {},
   "outputs": [
    {
     "data": {
      "text/plain": [
       "<HDF5 dataset \"packets\": shape (741168,), type \"|V36\">"
      ]
     },
     "execution_count": 5,
     "metadata": {},
     "output_type": "execute_result"
    }
   ],
   "source": [
    "file['packets']"
   ]
  },
  {
   "cell_type": "code",
   "execution_count": 6,
   "metadata": {},
   "outputs": [
    {
     "data": {
      "text/plain": [
       "array([(1, 1, 1, 2, 0, 1, 1, 58,          9, 0, 0, 0, 0, 122,   2, 0, 0, 0, 0, 0, 0,      0),\n",
       "       (1, 1, 2, 2, 0, 0, 1, 61,        965, 0, 0, 0, 0, 125, 241, 0, 0, 0, 0, 0, 0,      0),\n",
       "       (1, 1, 2, 2, 0, 0, 1, 59,         33, 0, 0, 0, 0, 123,   8, 0, 0, 0, 0, 0, 0,      0),\n",
       "       (1, 1, 2, 2, 0, 0, 1,  1,         17, 0, 0, 0, 0,  65,   4, 0, 0, 0, 0, 0, 0,      0),\n",
       "       (1, 1, 2, 2, 0, 1, 1, 18,        741, 0, 0, 0, 0,  82, 185, 0, 0, 0, 0, 0, 0,      0),\n",
       "       (1, 1, 2, 2, 0, 0, 1, 19,        165, 0, 0, 0, 0,  83,  41, 0, 0, 0, 0, 0, 0,      0),\n",
       "       (1, 1, 2, 2, 0, 0, 1, 61,        965, 0, 0, 0, 0, 125, 241, 0, 0, 0, 0, 0, 0,      0),\n",
       "       (1, 1, 2, 2, 0, 1, 1,  1,         62, 0, 0, 0, 0, 129,  15, 0, 0, 0, 0, 0, 0,      0),\n",
       "       (1, 1, 2, 3, 0, 0, 1,  0,          0, 0, 0, 0, 0,   0,   0, 0, 0, 0, 0, 0, 0,      0),\n",
       "       (1, 0, 0, 4, 0, 0, 0,  0, 1604113957, 0, 0, 0, 0,   0,   0, 1, 0, 0, 0, 0, 0,      0),\n",
       "       (1, 1, 2, 3, 1, 0, 1,  0,         64, 0, 0, 0, 0,   0,  16, 1, 0, 0, 0, 0, 0, 401807),\n",
       "       (1, 0, 0, 4, 0, 0, 0,  0, 1604113957, 0, 0, 0, 0,   0,   0, 1, 0, 0, 0, 0, 0,      0),\n",
       "       (1, 1, 2, 3, 1, 0, 1,  0,         64, 0, 0, 0, 0,   0,  16, 1, 0, 0, 0, 0, 0, 413363),\n",
       "       (1, 1, 2, 2, 0, 1, 1,  2,          1, 0, 0, 0, 0,  66,   0, 0, 0, 0, 0, 0, 0,      0),\n",
       "       (1, 1, 2, 2, 0, 0, 1,  3,          1, 0, 0, 0, 0,  67,   0, 0, 0, 0, 0, 0, 0,      0),\n",
       "       (1, 1, 2, 2, 0, 1, 1,  4,          1, 0, 0, 0, 0,  68,   0, 0, 0, 0, 0, 0, 0,      0),\n",
       "       (1, 1, 2, 2, 0, 0, 1,  5,          1, 0, 0, 0, 0,  69,   0, 0, 0, 0, 0, 0, 0,      0),\n",
       "       (1, 1, 2, 2, 0, 0, 1,  6,          1, 0, 0, 0, 0,  70,   0, 0, 0, 0, 0, 0, 0,      0),\n",
       "       (1, 1, 2, 2, 0, 1, 1,  7,          1, 0, 0, 0, 0,  71,   0, 0, 0, 0, 0, 0, 0,      0),\n",
       "       (1, 1, 2, 2, 0, 1, 1,  8,          1, 0, 0, 0, 0,  72,   0, 0, 0, 0, 0, 0, 0,      0),\n",
       "       (1, 1, 2, 2, 0, 0, 1,  9,          1, 0, 0, 0, 0,  73,   0, 0, 0, 0, 0, 0, 0,      0),\n",
       "       (1, 1, 2, 2, 0, 1, 1,  2,          1, 0, 0, 0, 0,  66,   0, 0, 0, 0, 0, 0, 0,      0),\n",
       "       (1, 1, 2, 2, 0, 0, 1,  3,          1, 0, 0, 0, 0,  67,   0, 0, 0, 0, 0, 0, 0,      0),\n",
       "       (1, 1, 2, 2, 0, 1, 1,  4,          1, 0, 0, 0, 0,  68,   0, 0, 0, 0, 0, 0, 0,      0),\n",
       "       (1, 1, 2, 2, 0, 0, 1,  5,          1, 0, 0, 0, 0,  69,   0, 0, 0, 0, 0, 0, 0,      0),\n",
       "       (1, 1, 2, 2, 0, 0, 1,  6,          1, 0, 0, 0, 0,  70,   0, 0, 0, 0, 0, 0, 0,      0),\n",
       "       (1, 1, 2, 2, 0, 1, 1,  7,          1, 0, 0, 0, 0,  71,   0, 0, 0, 0, 0, 0, 0,      0),\n",
       "       (1, 1, 2, 2, 0, 1, 1,  8,          1, 0, 0, 0, 0,  72,   0, 0, 0, 0, 0, 0, 0,      0),\n",
       "       (1, 1, 2, 2, 0, 0, 1,  9,          1, 0, 0, 0, 0,  73,   0, 0, 0, 0, 0, 0, 0,      0),\n",
       "       (1, 1, 2, 2, 0, 1, 1,  0,        513, 0, 0, 0, 0,  64, 128, 0, 0, 0, 0, 0, 0,      0)],\n",
       "      dtype=[('io_group', 'u1'), ('io_channel', 'u1'), ('chip_id', 'u1'), ('packet_type', 'u1'), ('downstream_marker', 'u1'), ('parity', 'u1'), ('valid_parity', 'u1'), ('channel_id', 'u1'), ('timestamp', '<u8'), ('dataword', 'u1'), ('trigger_type', 'u1'), ('local_fifo', 'u1'), ('shared_fifo', 'u1'), ('register_address', 'u1'), ('register_data', 'u1'), ('direction', 'u1'), ('local_fifo_events', 'u1'), ('shared_fifo_events', '<u2'), ('counter', '<u4'), ('fifo_diagnostics_enabled', 'u1'), ('first_packet', 'u1'), ('receipt_timestamp', '<u4')])"
      ]
     },
     "execution_count": 6,
     "metadata": {},
     "output_type": "execute_result"
    }
   ],
   "source": [
    "packets = file['packets']\n",
    "packets[:30]"
   ]
  },
  {
   "cell_type": "code",
   "execution_count": null,
   "metadata": {},
   "outputs": [],
   "source": []
  },
  {
   "cell_type": "code",
   "execution_count": 7,
   "metadata": {},
   "outputs": [
    {
     "data": {
      "text/plain": [
       "array([ 0,  1,  2,  3,  4,  5,  6,  7,  8,  9, 10, 11, 12, 13, 14, 15, 16,\n",
       "       17, 18, 19, 20, 21, 22, 23, 24, 25, 26, 27, 28, 29, 30, 31, 32, 33,\n",
       "       34, 35, 36, 37, 38, 39, 40, 41, 42, 43, 44, 45, 46, 47, 48, 49, 50,\n",
       "       51, 52, 53, 54, 55, 56, 57, 58, 59, 60, 61, 62, 63], dtype=uint8)"
      ]
     },
     "execution_count": 7,
     "metadata": {},
     "output_type": "execute_result"
    }
   ],
   "source": [
    "np.unique(packets['channel_id'])"
   ]
  },
  {
   "cell_type": "code",
   "execution_count": 8,
   "metadata": {},
   "outputs": [],
   "source": [
    "channel1 = packets[packets['channel_id'] == 1]"
   ]
  },
  {
   "cell_type": "code",
   "execution_count": 9,
   "metadata": {},
   "outputs": [
    {
     "data": {
      "text/plain": [
       "array([(1, 1, 2, 2, 0, 0, 1, 1,        17,   0, 0, 0, 0,  65,   4, 0, 0, 0, 0, 0, 0,         0),\n",
       "       (1, 1, 2, 2, 0, 1, 1, 1,        62,   0, 0, 0, 0, 129,  15, 0, 0, 0, 0, 0, 0,         0),\n",
       "       (1, 1, 2, 3, 0, 1, 1, 1,         0,   0, 0, 0, 0,   1,   0, 0, 0, 0, 0, 0, 0,         0),\n",
       "       ...,\n",
       "       (1, 1, 2, 0, 1, 1, 1, 1, 153195717, 230, 0, 0, 0,  65,  49, 1, 0, 0, 0, 0, 1, 153657867),\n",
       "       (1, 1, 2, 0, 1, 0, 1, 1, 153201147, 240, 0, 0, 0, 193, 126, 1, 0, 0, 0, 0, 1, 153664939),\n",
       "       (1, 1, 2, 0, 1, 0, 1, 1, 153206589, 244, 0, 0, 0,  65, 207, 1, 0, 0, 0, 0, 1, 153674187)],\n",
       "      dtype=[('io_group', 'u1'), ('io_channel', 'u1'), ('chip_id', 'u1'), ('packet_type', 'u1'), ('downstream_marker', 'u1'), ('parity', 'u1'), ('valid_parity', 'u1'), ('channel_id', 'u1'), ('timestamp', '<u8'), ('dataword', 'u1'), ('trigger_type', 'u1'), ('local_fifo', 'u1'), ('shared_fifo', 'u1'), ('register_address', 'u1'), ('register_data', 'u1'), ('direction', 'u1'), ('local_fifo_events', 'u1'), ('shared_fifo_events', '<u2'), ('counter', '<u4'), ('fifo_diagnostics_enabled', 'u1'), ('first_packet', 'u1'), ('receipt_timestamp', '<u4')])"
      ]
     },
     "execution_count": 9,
     "metadata": {},
     "output_type": "execute_result"
    }
   ],
   "source": [
    "channel1"
   ]
  },
  {
   "cell_type": "code",
   "execution_count": 10,
   "metadata": {},
   "outputs": [],
   "source": [
    "channels = []\n",
    "\n",
    "for i in range(0, 64):\n",
    "    channels.append(packets[packets['channel_id'] == i])"
   ]
  },
  {
   "cell_type": "code",
   "execution_count": null,
   "metadata": {},
   "outputs": [],
   "source": []
  },
  {
   "cell_type": "code",
   "execution_count": 11,
   "metadata": {},
   "outputs": [
    {
     "data": {
      "text/plain": [
       "array([(1, 1, 2, 2, 0, 0, 1, 1,      17,   0, 0, 0, 0,  65,   4, 0, 0, 0, 0, 0, 0,       0),\n",
       "       (1, 1, 2, 2, 0, 1, 1, 1,      62,   0, 0, 0, 0, 129,  15, 0, 0, 0, 0, 0, 0,       0),\n",
       "       (1, 1, 2, 3, 0, 1, 1, 1,       0,   0, 0, 0, 0,   1,   0, 0, 0, 0, 0, 0, 0,       0),\n",
       "       (1, 1, 2, 3, 0, 0, 1, 1,       1,   0, 0, 0, 0,  65,   0, 0, 0, 0, 0, 0, 0,       0),\n",
       "       (1, 1, 2, 3, 0, 0, 1, 1,       2,   0, 0, 0, 0, 129,   0, 0, 0, 0, 0, 0, 0,       0),\n",
       "       (1, 1, 2, 3, 0, 1, 1, 1,       3,   0, 0, 0, 0, 193,   0, 0, 0, 0, 0, 0, 0,       0),\n",
       "       (1, 1, 2, 0, 1, 0, 1, 1, 1118011, 249, 0, 0, 0, 193, 206, 1, 0, 0, 0, 0, 1, 1423547),\n",
       "       (1, 1, 2, 0, 1, 0, 1, 1, 1121258, 245, 0, 0, 0, 129, 250, 1, 0, 0, 0, 0, 1, 1443947),\n",
       "       (1, 1, 2, 0, 1, 1, 1, 1, 1125622, 223, 0, 0, 0, 129,  61, 1, 0, 0, 0, 0, 1, 1465163),\n",
       "       (1, 1, 2, 0, 1, 1, 1, 1, 1219202, 245, 0, 0, 0, 129, 160, 1, 0, 0, 0, 0, 1, 1467339),\n",
       "       (1, 1, 2, 0, 1, 1, 1, 1, 1224292, 231, 0, 0, 0,   1, 153, 1, 0, 0, 0, 0, 1, 1469515),\n",
       "       (1, 1, 2, 0, 1, 1, 1, 1, 1227919, 228, 0, 0, 0, 193,  35, 1, 0, 0, 0, 0, 1, 1474411),\n",
       "       (1, 1, 2, 0, 1, 1, 1, 1, 1232641, 208, 0, 0, 0,  65, 192, 1, 0, 0, 0, 0, 1, 1482027),\n",
       "       (1, 1, 2, 0, 1, 1, 1, 1, 1238436, 245, 0, 0, 0,   1, 105, 1, 0, 0, 0, 0, 1, 1488827),\n",
       "       (1, 1, 2, 0, 1, 0, 1, 1, 1239535, 214, 0, 0, 0, 193, 123, 1, 0, 0, 0, 0, 1, 1498075),\n",
       "       (1, 1, 2, 0, 1, 0, 1, 1, 1241701, 245, 0, 0, 0,  65, 153, 1, 0, 0, 0, 0, 1, 1513579),\n",
       "       (1, 1, 2, 0, 1, 1, 1, 1, 1245330, 255, 0, 0, 0, 129,  36, 1, 0, 0, 0, 0, 1, 1529083),\n",
       "       (1, 1, 2, 0, 1, 1, 1, 1, 1247866, 246, 0, 0, 0, 129, 158, 1, 0, 0, 0, 0, 1, 1547035),\n",
       "       (1, 1, 2, 0, 1, 0, 1, 1, 1250413, 218, 0, 0, 0,  65,  27, 1, 0, 0, 0, 0, 1, 1565259),\n",
       "       (1, 1, 2, 0, 1, 1, 1, 1, 1252951, 255, 0, 0, 0, 193, 149, 1, 0, 0, 0, 0, 1, 1582395),\n",
       "       (1, 1, 2, 0, 1, 0, 1, 1, 1255842, 255, 0, 0, 0, 129, 104, 1, 0, 0, 0, 0, 1, 1602523),\n",
       "       (1, 1, 2, 0, 1, 0, 1, 1, 1258400, 221, 0, 0, 0,   1, 232, 1, 0, 0, 0, 0, 1, 1622379),\n",
       "       (1, 1, 2, 0, 1, 0, 1, 1, 1260933, 255, 0, 0, 0,  65,  97, 1, 0, 0, 0, 0, 1, 1637611),\n",
       "       (1, 1, 2, 0, 1, 1, 1, 1, 1266017, 217, 0, 0, 0,  65,  88, 1, 0, 0, 0, 0, 1, 1660187),\n",
       "       (1, 1, 2, 0, 1, 1, 1, 1, 1267098, 236, 0, 0, 0, 129, 102, 1, 0, 0, 0, 0, 1, 1676779),\n",
       "       (1, 1, 2, 0, 1, 1, 1, 1, 1268181, 255, 0, 0, 0,  65, 117, 1, 0, 0, 0, 0, 1, 1693371),\n",
       "       (1, 1, 2, 0, 1, 0, 1, 1, 1271436, 248, 0, 0, 0,   1, 163, 1, 0, 0, 0, 0, 1, 1713771),\n",
       "       (1, 1, 2, 0, 1, 1, 1, 1, 1273265, 255, 0, 0, 0,  65, 108, 1, 0, 0, 0, 0, 1, 1731723),\n",
       "       (1, 1, 2, 0, 1, 0, 1, 1, 1275085, 236, 0, 0, 0,  65,  51, 1, 0, 0, 0, 0, 1, 1751035),\n",
       "       (1, 1, 2, 0, 1, 1, 1, 1, 1277226, 219, 0, 0, 0, 129,  74, 1, 0, 0, 0, 0, 1, 1769531)],\n",
       "      dtype=[('io_group', 'u1'), ('io_channel', 'u1'), ('chip_id', 'u1'), ('packet_type', 'u1'), ('downstream_marker', 'u1'), ('parity', 'u1'), ('valid_parity', 'u1'), ('channel_id', 'u1'), ('timestamp', '<u8'), ('dataword', 'u1'), ('trigger_type', 'u1'), ('local_fifo', 'u1'), ('shared_fifo', 'u1'), ('register_address', 'u1'), ('register_data', 'u1'), ('direction', 'u1'), ('local_fifo_events', 'u1'), ('shared_fifo_events', '<u2'), ('counter', '<u4'), ('fifo_diagnostics_enabled', 'u1'), ('first_packet', 'u1'), ('receipt_timestamp', '<u4')])"
      ]
     },
     "execution_count": 11,
     "metadata": {},
     "output_type": "execute_result"
    }
   ],
   "source": [
    "channels[1][:30]"
   ]
  },
  {
   "cell_type": "code",
   "execution_count": 12,
   "metadata": {},
   "outputs": [
    {
     "name": "stderr",
     "output_type": "stream",
     "text": [
      "<ipython-input-12-231bb216340f>:9: RuntimeWarning: overflow encountered in ulong_scalars\n",
      "  arr.append(1000 * channels[i]['dataword'][j] / (channels[i]['timestamp'][j] - channels[i]['timestamp'][j - 1]))\n",
      "<ipython-input-12-231bb216340f>:9: RuntimeWarning: invalid value encountered in true_divide\n",
      "  arr.append(1000 * channels[i]['dataword'][j] / (channels[i]['timestamp'][j] - channels[i]['timestamp'][j - 1]))\n",
      "<ipython-input-12-231bb216340f>:9: RuntimeWarning: divide by zero encountered in true_divide\n",
      "  arr.append(1000 * channels[i]['dataword'][j] / (channels[i]['timestamp'][j] - channels[i]['timestamp'][j - 1]))\n"
     ]
    }
   ],
   "source": [
    "# current = int(f(ADC) / delta(timestamp))\n",
    "# plot histograms for each channel\n",
    "\n",
    "currents_channels = []\n",
    "\n",
    "for i in range(0, 64):\n",
    "    arr = []\n",
    "    for j in range(1, channels[i].size):\n",
    "        arr.append(1000 * channels[i]['dataword'][j] / (channels[i]['timestamp'][j] - channels[i]['timestamp'][j - 1]))\n",
    "    currents_channels.append(arr)\n",
    "\n",
    "currents_channels = [[x for x in currents_channels[i] if str(x) != 'nan'] for i in range(0, 64)]\n",
    "currents_channels = [[x for x in currents_channels[i] if str(x) != 'inf'] for i in range(0, 64)]\n",
    "currents_channels = [[x for x in currents_channels[i] if x != 0] for i in range(0, 64)]\n",
    "currents_channels = [[int(x) for x in currents_channels[i]] for i in range(0, 64)]\n",
    "currents_channels = [[x for x in currents_channels[i] if x != 0] for i in range(0, 64)]"
   ]
  },
  {
   "cell_type": "code",
   "execution_count": 13,
   "metadata": {},
   "outputs": [
    {
     "data": {
      "text/plain": [
       "(array([1.153e+03, 2.530e+02, 9.050e+02, 2.940e+02, 8.250e+02, 1.087e+03,\n",
       "        8.180e+02, 4.980e+02, 2.810e+02, 1.580e+02, 2.310e+02, 7.900e+01,\n",
       "        6.900e+01, 6.000e+00, 1.100e+01, 1.100e+01, 2.000e+00, 0.000e+00,\n",
       "        0.000e+00, 1.000e+00]),\n",
       " array([  1. ,  14.7,  28.4,  42.1,  55.8,  69.5,  83.2,  96.9, 110.6,\n",
       "        124.3, 138. , 151.7, 165.4, 179.1, 192.8, 206.5, 220.2, 233.9,\n",
       "        247.6, 261.3, 275. ]),\n",
       " <BarContainer object of 20 artists>)"
      ]
     },
     "execution_count": 13,
     "metadata": {},
     "output_type": "execute_result"
    },
    {
     "data": {
      "image/png": "[encoded data removed]",
      "text/plain": [
       "<Figure size 432x288 with 1 Axes>"
      ]
     },
     "metadata": {
      "needs_background": "light"
     },
     "output_type": "display_data"
    }
   ],
   "source": [
    "plt.hist(currents_channels[50], bins = 20)"
   ]
  },
  {
   "cell_type": "code",
   "execution_count": null,
   "metadata": {},
   "outputs": [],
   "source": []
  },
  {
   "cell_type": "code",
   "execution_count": 14,
   "metadata": {},
   "outputs": [
    {
     "data": {
      "image/png": "[encoded data removed]",
      "text/plain": [
       "<Figure size 432x288 with 1 Axes>"
      ]
     },
     "metadata": {
      "needs_background": "light"
     },
     "output_type": "display_data"
    }
   ],
   "source": [
    "for i in range(0, 64):\n",
    "    plt.hist(currents_channels[i], bins = 20)\n",
    "#plt.xscale('log')"
   ]
  },
  {
   "cell_type": "code",
   "execution_count": null,
   "metadata": {},
   "outputs": [],
   "source": []
  },
  {
   "cell_type": "code",
   "execution_count": null,
   "metadata": {},
   "outputs": [],
   "source": []
  },
  {
   "cell_type": "code",
   "execution_count": 15,
   "metadata": {},
   "outputs": [
    {
     "data": {
      "image/png": "[encoded data removed]",
      "text/plain": [
       "<Figure size 1440x720 with 64 Axes>"
      ]
     },
     "metadata": {
      "needs_background": "light"
     },
     "output_type": "display_data"
    }
   ],
   "source": [
    "fig, axes = plt.subplots(8, 8, figsize = (20,10))\n",
    "\n",
    "count = 0\n",
    "for i in range(0, 8):\n",
    "    for j in range(0, 8):\n",
    "        axes[i][j].set_title('Channel ' + str(count))\n",
    "        axes[i][j].hist(currents_channels[count], bins = 20)\n",
    "        count += 1\n",
    "\n",
    "plt.show()"
   ]
  },
  {
   "cell_type": "code",
   "execution_count": null,
   "metadata": {},
   "outputs": [],
   "source": []
  },
  {
   "cell_type": "code",
   "execution_count": 30,
   "metadata": {},
   "outputs": [
    {
     "name": "stdout",
     "output_type": "stream",
     "text": [
      "opening /Users/jamesdeleon/Documents/larpix/Project_LArPix/larpix_data_files/test_files/datalog_2021_01_20_12_25_50_CST_.h5\n",
      "chip: 2.0\tchannel: 0.0\trate: 70.99\tleakage: 8882.48\n",
      "chip: 2.0\tchannel: 1.0\trate: 87.89\tleakage: 10997.01\n",
      "chip: 2.0\tchannel: 2.0\trate: 45.37\tleakage: 5676.28\n",
      "chip: 2.0\tchannel: 3.0\trate: 80.19\tleakage: 10033.58\n",
      "chip: 2.0\tchannel: 4.0\trate: 43.93\tleakage: 5496.94\n",
      "chip: 2.0\tchannel: 5.0\trate: 85.11\tleakage: 10648.75\n",
      "chip: 2.0\tchannel: 6.0\trate: 69.03\tleakage: 8637.45\n",
      "chip: 2.0\tchannel: 7.0\trate: 84.74\tleakage: 10602.88\n",
      "chip: 2.0\tchannel: 8.0\trate: 841.20\tleakage: 105250.94\n",
      "chip: 2.0\tchannel: 9.0\trate: 82.80\tleakage: 10359.94\n",
      "chip: 2.0\tchannel: 10.0\trate: 62.31\tleakage: 7796.02\n",
      "chip: 2.0\tchannel: 11.0\trate: 47.32\tleakage: 5920.26\n",
      "chip: 2.0\tchannel: 12.0\trate: 52.04\tleakage: 6511.45\n",
      "chip: 2.0\tchannel: 13.0\trate: 80.88\tleakage: 10120.12\n",
      "chip: 2.0\tchannel: 14.0\trate: 59.57\tleakage: 7452.98\n",
      "chip: 2.0\tchannel: 15.0\trate: 62.61\tleakage: 7833.55\n",
      "chip: 2.0\tchannel: 16.0\trate: 75.34\tleakage: 9426.75\n",
      "chip: 2.0\tchannel: 17.0\trate: 51.90\tleakage: 6493.73\n",
      "chip: 2.0\tchannel: 18.0\trate: 52.99\tleakage: 6630.32\n",
      "chip: 2.0\tchannel: 19.0\trate: 50.40\tleakage: 6306.05\n",
      "chip: 2.0\tchannel: 20.0\trate: 55.89\tleakage: 6993.17\n",
      "chip: 2.0\tchannel: 21.0\trate: 50.18\tleakage: 6278.94\n",
      "chip: 2.0\tchannel: 22.0\trate: 48.88\tleakage: 6116.28\n",
      "chip: 2.0\tchannel: 23.0\trate: 43.77\tleakage: 5477.13\n",
      "chip: 2.0\tchannel: 24.0\trate: 34.29\tleakage: 4290.57\n",
      "chip: 2.0\tchannel: 25.0\trate: 44.56\tleakage: 5575.14\n",
      "chip: 2.0\tchannel: 26.0\trate: 50.97\tleakage: 6376.95\n",
      "chip: 2.0\tchannel: 27.0\trate: 54.89\tleakage: 6868.05\n",
      "chip: 2.0\tchannel: 28.0\trate: 30.39\tleakage: 3802.61\n",
      "chip: 2.0\tchannel: 29.0\trate: 61.50\tleakage: 7694.88\n",
      "chip: 2.0\tchannel: 30.0\trate: 68.13\tleakage: 8524.84\n",
      "chip: 2.0\tchannel: 31.0\trate: 41.42\tleakage: 5183.10\n",
      "chip: 2.0\tchannel: 32.0\trate: 56.59\tleakage: 7080.75\n",
      "chip: 2.0\tchannel: 33.0\trate: 56.12\tleakage: 7021.32\n",
      "chip: 2.0\tchannel: 34.0\trate: 59.88\tleakage: 7492.60\n",
      "chip: 2.0\tchannel: 35.0\trate: 43.53\tleakage: 5446.89\n",
      "chip: 2.0\tchannel: 36.0\trate: 45.98\tleakage: 5752.39\n",
      "chip: 2.0\tchannel: 37.0\trate: 55.56\tleakage: 6951.46\n",
      "chip: 2.0\tchannel: 38.0\trate: 51.77\tleakage: 6477.05\n",
      "chip: 2.0\tchannel: 39.0\trate: 32.97\tleakage: 4124.79\n",
      "chip: 2.0\tchannel: 40.0\trate: 40.59\tleakage: 5078.83\n",
      "chip: 2.0\tchannel: 41.0\trate: 40.31\tleakage: 5043.38\n",
      "chip: 2.0\tchannel: 42.0\trate: 45.94\tleakage: 5748.22\n",
      "chip: 2.0\tchannel: 43.0\trate: 54.20\tleakage: 6781.50\n",
      "chip: 2.0\tchannel: 44.0\trate: 42.52\tleakage: 5319.69\n",
      "chip: 2.0\tchannel: 45.0\trate: 69.14\tleakage: 8651.01\n",
      "chip: 2.0\tchannel: 46.0\trate: 66.97\tleakage: 8379.91\n",
      "chip: 2.0\tchannel: 47.0\trate: 61.22\tleakage: 7659.43\n",
      "chip: 2.0\tchannel: 48.0\trate: 53.97\tleakage: 6752.31\n",
      "chip: 2.0\tchannel: 49.0\trate: 54.48\tleakage: 6815.91\n",
      "chip: 2.0\tchannel: 50.0\trate: 55.94\tleakage: 6999.42\n",
      "chip: 2.0\tchannel: 51.0\trate: 53.48\tleakage: 6691.83\n",
      "chip: 2.0\tchannel: 52.0\trate: 62.11\tleakage: 7770.99\n",
      "chip: 2.0\tchannel: 53.0\trate: 41.72\tleakage: 5219.59\n",
      "chip: 2.0\tchannel: 54.0\trate: 39.81\tleakage: 4980.82\n",
      "chip: 2.0\tchannel: 55.0\trate: 49.50\tleakage: 6193.44\n",
      "chip: 2.0\tchannel: 56.0\trate: 64.67\tleakage: 8092.14\n",
      "chip: 2.0\tchannel: 57.0\trate: 42.89\tleakage: 5366.61\n",
      "chip: 2.0\tchannel: 58.0\trate: 43.00\tleakage: 5380.16\n",
      "chip: 2.0\tchannel: 59.0\trate: 57.31\tleakage: 7170.42\n",
      "chip: 2.0\tchannel: 60.0\trate: 66.17\tleakage: 8279.82\n",
      "chip: 2.0\tchannel: 61.0\trate: 48.12\tleakage: 6021.40\n",
      "chip: 2.0\tchannel: 62.0\trate: 63.12\tleakage: 7898.20\n",
      "chip: 2.0\tchannel: 63.0\trate: 60.08\tleakage: 7517.63\n"
     ]
    },
    {
     "data": {
      "image/png": "[encoded data removed]",
      "text/plain": [
       "<Figure size 432x288 with 2 Axes>"
      ]
     },
     "metadata": {
      "needs_background": "light"
     },
     "output_type": "display_data"
    }
   ],
   "source": [
    "\n",
    "import h5py\n",
    "import matplotlib.pyplot as plt\n",
    "import matplotlib.ticker as ticker\n",
    "import numpy as np\n",
    "from scipy.stats import norm, mode\n",
    "import sys\n",
    "import time\n",
    "\n",
    "threshold = 128\n",
    "gain = 4 # mV /ke-\n",
    "runtime = 120\n",
    "lsb = 3.91\n",
    "#vref = 1.546 V\n",
    "#vcm = 544 mV\n",
    "\n",
    "nonrouted_channels = [6,7,8,9,\n",
    "                      22,23,24,25,\n",
    "                      38,39,40,\n",
    "                      54,55,56,57]\n",
    "\n",
    "def unique_channel_id(io_group, io_channel, chip_id, channel_id):\n",
    "    return channel_id + 64 * (chip_id + 255 * (io_channel + 255 * (io_group)))\n",
    "\n",
    "def plot_summary(data):\n",
    "    parameters = {'axes.labelseize' : 15,\n",
    "                  'xtick.labelsize' : 15,\n",
    "                  'ytick.labelsize' : 15 }\n",
    "    plot_exists = plt.fignum_exists('summary')\n",
    "    if plot_exists:\n",
    "        fig = plt.figure('summary')\n",
    "        axes = fig.axes\n",
    "    else:\n",
    "        fig,axes = plt.subplots(2, 1, sharex = 'col', num = 'summary')\n",
    "    fig.subplots_adjust(hspace = 0)\n",
    "\n",
    "    channels = [(channel // 64) % 255 for channel in sorted(data.keys()) if channel % 64 not in nonrouted_channels]\n",
    "    ch_rate = [data[channel]['rate'] for channel in sorted(data.keys()) if channel % 64 not in nonrouted_channels]\n",
    "    ch_leakage = [data[channel]['leakage'] for channel in sorted(data.keys()) if channel % 64 not in nonrouted_channels]\n",
    "\n",
    "    axes[0].plot(channels,ch_rate,'.')\n",
    "    axes[1].plot(channels,ch_leakage,'.')\n",
    "    axes[1].set(xlabel = 'Chip ID')\n",
    "    axes[0].set(ylabel = 'Rate [Hz]')\n",
    "    axes[1].set(ylabel = 'Leakage Current [e- / ms] ')\n",
    "    axes[0].set(yscale = 'log')\n",
    "    axes[1].set(yscale = 'log')\n",
    "    plt.show()\n",
    "\n",
    "    \n",
    "\n",
    "def main():\n",
    "    filename = PATH\n",
    "    print('opening',filename)\n",
    "    plt.ion()\n",
    "    f = h5py.File(filename,'r')\n",
    "\n",
    "    data_mask = f['packets'][:]['packet_type'] == 0\n",
    "    valid_parity_mask = f['packets'][data_mask]['valid_parity'] == 1\n",
    "    good_data = (f['packets'][data_mask])[valid_parity_mask]\n",
    "\n",
    "    io_group = good_data['io_group'].astype(np.uint64)\n",
    "    io_channel = good_data['io_channel'].astype(np.uint64)\n",
    "    chip_id = good_data['chip_id'].astype(np.uint64)\n",
    "    channel_id = good_data['channel_id'].astype(np.uint64)\n",
    "    unique_channels = set(unique_channel_id(io_group, io_channel, chip_id, channel_id))\n",
    "    \n",
    "    data = dict()\n",
    "    for channel in sorted(unique_channels):\n",
    "        channel_mask = unique_channel_id(io_group, io_channel, chip_id, channel_id) == channel\n",
    "        timestamp = good_data[channel_mask]['timestamp']\n",
    "        adc = good_data[channel_mask]['dataword']\n",
    "        rate_i = len(adc) / runtime\n",
    "\n",
    "        data[channel] = dict(\n",
    "            channel_mask = channel_mask,\n",
    "            timestamp = timestamp,\n",
    "            adc = adc,\n",
    "            rate = rate_i,\n",
    "            leakage = (rate_i) * threshold * lsb * (1000 / gain) / 1000 # e- / ms\n",
    "            )\n",
    "        if rate_i > 20:\n",
    "            print('chip: {}\\tchannel: {}\\trate: {:.02f}\\tleakage: {:.02f}'.format((channel // 64) % 255, channel % 64, data[channel]['rate'], data[channel]['leakage']))\n",
    "    return data\n",
    "                  \n",
    "if __name__ == '__main__':\n",
    "    data = main()\n",
    "    #print(data)\n",
    "    plot_summary(data)\n",
    "    #time.sleep(10)"
   ]
  },
  {
   "cell_type": "code",
   "execution_count": null,
   "metadata": {},
   "outputs": [],
   "source": []
  },
  {
   "cell_type": "code",
   "execution_count": null,
   "metadata": {},
   "outputs": [],
   "source": []
  }
 ],
 "metadata": {
  "kernelspec": {
   "display_name": "venv_larpix_v3_4_0",
   "language": "python",
   "name": "venv_larpix_v3_4_0"
  },
  "language_info": {
   "codemirror_mode": {
    "name": "ipython",
    "version": 3
   },
   "file_extension": ".py",
   "mimetype": "text/x-python",
   "name": "python",
   "nbconvert_exporter": "python",
   "pygments_lexer": "ipython3",
   "version": "3.8.5"
  }
 },
 "nbformat": 4,
 "nbformat_minor": 4
}
