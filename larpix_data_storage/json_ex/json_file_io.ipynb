{
 "cells": [
  {
   "cell_type": "code",
   "execution_count": 1,
   "metadata": {},
   "outputs": [],
   "source": [
    "import json"
   ]
  },
  {
   "cell_type": "code",
   "execution_count": null,
   "metadata": {},
   "outputs": [],
   "source": []
  },
  {
   "cell_type": "code",
   "execution_count": 3,
   "metadata": {},
   "outputs": [],
   "source": [
    "with open(\"data.json\", 'r') as datafile:\n",
    "    data = json.load(datafile)\n",
    "datafile.close()"
   ]
  },
  {
   "cell_type": "code",
   "execution_count": 6,
   "metadata": {},
   "outputs": [
    {
     "data": {
      "text/plain": [
       "{'firstName': 'Jane',\n",
       " 'lastName': 'Doe',\n",
       " 'hobbies': ['running', 'swimming', 'painting'],\n",
       " 'age': 35,\n",
       " 'children': [{'firstName': 'Alice', 'age': 6},\n",
       "  {'firstName': 'Bob', 'age': 8}]}"
      ]
     },
     "execution_count": 6,
     "metadata": {},
     "output_type": "execute_result"
    }
   ],
   "source": [
    "data"
   ]
  },
  {
   "cell_type": "code",
   "execution_count": 11,
   "metadata": {},
   "outputs": [
    {
     "data": {
      "text/plain": [
       "6"
      ]
     },
     "execution_count": 11,
     "metadata": {},
     "output_type": "execute_result"
    }
   ],
   "source": [
    "data['children'][0]['age']"
   ]
  },
  {
   "cell_type": "code",
   "execution_count": 12,
   "metadata": {},
   "outputs": [
    {
     "data": {
      "text/plain": [
       "\"{'firstName': 'Jane', 'lastName': 'Doe', 'hobbies': ['running', 'swimming', 'painting'], 'age': 35, 'children': [{'firstName': 'Alice', 'age': 6}, {'firstName': 'Bob', 'age': 8}]}\""
      ]
     },
     "execution_count": 12,
     "metadata": {},
     "output_type": "execute_result"
    }
   ],
   "source": [
    "str(data)"
   ]
  },
  {
   "cell_type": "code",
   "execution_count": 26,
   "metadata": {},
   "outputs": [],
   "source": [
    "import json\n",
    "null = None\n",
    "true = True\n",
    "uart = {\n",
    "    \"_config_type\": \"controller\",\n",
    "    \"name\": \"network-10x10-tile-singlecube\",\n",
    "    \"asic_version\": 2,\n",
    "    \"layout\": \"2.2.0\",\n",
    "    \"network\": {\n",
    "        \"1\": {\n",
    "            \"1\": {\n",
    "                \"nodes\": [\n",
    "                    {\"chip_id\": \"ext\", \"miso_us\": [null,null,null,11], \"root\": true},\n",
    "                    {\"chip_id\": 11,    \"miso_us\": [null,null,null,  12]},\n",
    "\t\t\t\t\t{\"chip_id\": 12,    \"miso_us\": [null,null,null,  13]},\n",
    "\t\t\t\t\t{\"chip_id\": 13,    \"miso_us\": [null,null,null,  14]},\n",
    "\t\t\t\t\t{\"chip_id\": 14,    \"miso_us\": [null,null,null,  15]},\n",
    "\t\t\t\t\t{\"chip_id\": 15,    \"miso_us\": [null,null,null,  16]},\n",
    "\t\t\t\t\t{\"chip_id\": 16,    \"miso_us\": [null,null,null,  17]},\n",
    "\t\t\t\t\t{\"chip_id\": 17,    \"miso_us\": [null,null,null,  18]},\n",
    "\t\t\t\t\t{\"chip_id\": 18,    \"miso_us\": [null,null,null,  19]},\n",
    "\t\t\t\t\t{\"chip_id\": 19,    \"miso_us\": [null,null,null,  20]},\n",
    "\t\t\t\t\t{\"chip_id\": 20,    \"miso_us\": [null,null, 30,null]},\n",
    "\t\t\t\t\t{\"chip_id\": 30,    \"miso_us\": [null,  29,null,null]},\n",
    "\t\t\t\t\t{\"chip_id\": 29,    \"miso_us\": [null,  28,null,null]},\n",
    "\t\t\t\t\t{\"chip_id\": 28,    \"miso_us\": [null,  27,null,null]},\n",
    "\t\t\t\t\t{\"chip_id\": 27,    \"miso_us\": [null,  26,null,null]},\n",
    "\t\t\t\t\t{\"chip_id\": 26,    \"miso_us\": [null,  25,null,null]},\n",
    "\t\t\t\t\t{\"chip_id\": 25,    \"miso_us\": [null,  24,null,null]},\n",
    "\t\t\t\t\t{\"chip_id\": 24,    \"miso_us\": [null,  23,null,null]},\n",
    "\t\t\t\t\t{\"chip_id\": 23,    \"miso_us\": [null,  22,null,null]},\n",
    "\t\t\t\t\t{\"chip_id\": 22,    \"miso_us\": [null,  21,null,null]},\n",
    "\t\t\t\t\t{\"chip_id\": 21,    \"miso_us\": [null,null,  31,null]},\n",
    "\t\t\t\t\t{\"chip_id\": 31,    \"miso_us\": [null,null,null,  32]},\n",
    "\t\t\t\t\t{\"chip_id\": 32,    \"miso_us\": [null,null,null,  33]},\n",
    "\t\t\t\t\t{\"chip_id\": 33,    \"miso_us\": [null,null,null,  34]},\n",
    "\t\t\t\t\t{\"chip_id\": 34,    \"miso_us\": [null,null,null,null]}\n",
    "                ]\n",
    "            },\n",
    "            \"2\": {\n",
    "                \"nodes\": [\n",
    "                    {\"chip_id\": \"ext\", \"miso_us\": [null,null,null,41], \"root\": true},\n",
    "                    {\"chip_id\": 41,    \"miso_us\": [null,null,  51,null]},\n",
    "\t\t    {\"chip_id\": 51,    \"miso_us\": [null,null,null,  52]},\n",
    "\t\t    {\"chip_id\": 52,    \"miso_us\": [null,null,null,  53]},\n",
    "\t\t    {\"chip_id\": 53,    \"miso_us\": [null,null,null,  54]},\n",
    "\t\t    {\"chip_id\": 54,    \"miso_us\": [null,null,null,  55]},\n",
    "\t\t    {\"chip_id\": 55,    \"miso_us\": [null,null,null,  56]},\n",
    "\t\t    {\"chip_id\": 56,    \"miso_us\": [null,null,null,  57]},\n",
    "\t\t    {\"chip_id\": 57,    \"miso_us\": [null,null,null,  58]},\n",
    "\t\t    {\"chip_id\": 58,    \"miso_us\": [null,null,null,  59]},\n",
    "\t\t    {\"chip_id\": 59,    \"miso_us\": [null,null,null,  60]},\n",
    "\t\t    {\"chip_id\": 60,    \"miso_us\": [ 50,null,null,null]},\n",
    "\t\t    {\"chip_id\": 50,    \"miso_us\": [ 40,null,null,null]},\n",
    "\t\t    {\"chip_id\": 40,    \"miso_us\": [null, 39,null,null]},\n",
    "\t\t    {\"chip_id\": 39,    \"miso_us\": [null,null, 49,null]},\n",
    "\t\t    {\"chip_id\": 49,    \"miso_us\": [null,  48,null,null]},\n",
    "\t\t    {\"chip_id\": 48,    \"miso_us\": [  38,null,null,null]},\n",
    "\t\t    {\"chip_id\": 38,    \"miso_us\": [null,  37,null,null]},\n",
    "\t\t    {\"chip_id\": 37,    \"miso_us\": [null,null,  47,null]},\n",
    "\t\t    {\"chip_id\": 47,    \"miso_us\": [null,  46,null,null]},\n",
    "\t\t    {\"chip_id\": 46,    \"miso_us\": [  36,null,null,null]},\n",
    "\t\t    {\"chip_id\": 36,    \"miso_us\": [null,  35,null,null]},\n",
    "\t\t    {\"chip_id\": 35,    \"miso_us\": [null,null,  45,null]},\n",
    "\t\t    {\"chip_id\": 45,    \"miso_us\": [null,  44,null,null]},\n",
    "\t\t    {\"chip_id\": 44,    \"miso_us\": [null,  43,null,null]},\n",
    "\t\t    {\"chip_id\": 43,    \"miso_us\": [null,  42,null,null]},\n",
    "\t\t    {\"chip_id\": 42,    \"miso_us\": [null,null,null,null]}\n",
    "                ]\n",
    "            },\n",
    "            \"3\": {\n",
    "                \"nodes\": [\n",
    "                    {\"chip_id\": \"ext\", \"miso_us\": [null,null,null,71], \"root\": true},\n",
    "                    {\"chip_id\": 71,    \"miso_us\": [  61,null,null,null]},\n",
    "\t\t    {\"chip_id\": 61,    \"miso_us\": [null,null,null,  62]},\n",
    "\t\t    {\"chip_id\": 62,    \"miso_us\": [null,null,null,  63]},\n",
    "\t\t    {\"chip_id\": 63,    \"miso_us\": [null,null,null,  64]},\n",
    "\t\t    {\"chip_id\": 64,    \"miso_us\": [null,null,null,  65]},\n",
    "\t\t    {\"chip_id\": 65,    \"miso_us\": [null,null,null,  66]},\n",
    "\t\t    {\"chip_id\": 66,    \"miso_us\": [null,null,null,  67]},\n",
    "\t\t    {\"chip_id\": 67,    \"miso_us\": [null,null,null,  68]},\n",
    "\t\t    {\"chip_id\": 68,    \"miso_us\": [null,null,null,  69]},\n",
    "\t\t    {\"chip_id\": 69,    \"miso_us\": [null,null,null,  70]},\n",
    "\t\t    {\"chip_id\": 70,    \"miso_us\": [null,null, 80,null]},\n",
    "\t\t    {\"chip_id\": 80,    \"miso_us\": [null,null, 90,null]},\n",
    "\t\t    {\"chip_id\": 90,    \"miso_us\": [null,  89,null,null]},\n",
    "\t\t    {\"chip_id\": 89,    \"miso_us\": [  79,null,null,null]},\n",
    "\t\t    {\"chip_id\": 79,    \"miso_us\": [null,  78,null,null]},\n",
    "\t\t    {\"chip_id\": 78,    \"miso_us\": [null,null,  88,null]},\n",
    "\t\t    {\"chip_id\": 88,    \"miso_us\": [null,  87,null,null]},\n",
    "\t\t    {\"chip_id\": 87,    \"miso_us\": [  77,null,null,null]},\n",
    "\t\t    {\"chip_id\": 77,    \"miso_us\": [null,  76,null,null]},\n",
    "\t\t    {\"chip_id\": 76,    \"miso_us\": [null,null,  86,null]},\n",
    "\t\t    {\"chip_id\": 86,    \"miso_us\": [null,  85,null,null]},\n",
    "\t\t    {\"chip_id\": 85,    \"miso_us\": [  75,null,null,null]},\n",
    "\t\t    {\"chip_id\": 75,    \"miso_us\": [null,  74,null,null]},\n",
    "\t\t    {\"chip_id\": 74,    \"miso_us\": [null,  73,null,null]},\n",
    "\t\t    {\"chip_id\": 73,    \"miso_us\": [null,  72,null,null]},\n",
    "\t\t    {\"chip_id\": 72,    \"miso_us\": [null,null,null,null]}\n",
    "                ]\n",
    "            },\n",
    "            \"4\": {\n",
    "                \"nodes\": [\n",
    "                    {\"chip_id\": \"ext\", \"miso_us\": [null,null,null,101], \"root\": true},\n",
    "                    {\"chip_id\": 101,    \"miso_us\": [null,null,null, 102]},\n",
    "\t\t    {\"chip_id\": 102,    \"miso_us\": [null,null,null, 103]},\n",
    "\t\t    {\"chip_id\": 103,    \"miso_us\": [null,null,null, 104]},\n",
    "\t\t    {\"chip_id\": 104,    \"miso_us\": [null,null,null, 105]},\n",
    "\t\t    {\"chip_id\": 105,    \"miso_us\": [null,null,null, 106]},\n",
    "\t\t    {\"chip_id\": 106,    \"miso_us\": [null,null,null, 107]},\n",
    "\t\t    {\"chip_id\": 107,    \"miso_us\": [null,null,null, 108]},\n",
    "\t\t    {\"chip_id\": 108,    \"miso_us\": [null,null,null, 109]},\n",
    "\t\t    {\"chip_id\": 109,    \"miso_us\": [null,null,null, 110]},\n",
    "\t\t    {\"chip_id\": 110,    \"miso_us\": [ 100,null,null,null]},\n",
    "\t\t    {\"chip_id\": 100,    \"miso_us\": [null,  99,null,null]},\n",
    "\t\t    {\"chip_id\":  99,    \"miso_us\": [null,  98,null,null]},\n",
    "\t\t    {\"chip_id\":  98,    \"miso_us\": [null,  97,null,null]},\n",
    "\t\t    {\"chip_id\":  97,    \"miso_us\": [null,  96,null,null]},\n",
    "\t\t    {\"chip_id\":  96,    \"miso_us\": [null,  95,null,null]},\n",
    "\t\t    {\"chip_id\":  95,    \"miso_us\": [null,  94,null,null]},\n",
    "\t\t    {\"chip_id\":  94,    \"miso_us\": [null,  93,null,null]},\n",
    "\t\t    {\"chip_id\":  93,    \"miso_us\": [null,  92,null,null]},\n",
    "\t\t    {\"chip_id\":  92,    \"miso_us\": [null,  91,null,null]},\n",
    "\t\t    {\"chip_id\":  91,    \"miso_us\": [  81,null,null,null]},\n",
    "\t\t    {\"chip_id\":  81,    \"miso_us\": [null,null,null,  82]},\n",
    "\t\t    {\"chip_id\":  82,    \"miso_us\": [null,null,null,  83]},\n",
    "\t\t    {\"chip_id\":  83,    \"miso_us\": [null,null,null,  84]},\n",
    "\t\t    {\"chip_id\":  84,    \"miso_us\": [null,null,null,null]}\n",
    "                ]\n",
    "            }\n",
    "        },\n",
    "        \"miso_us_uart_map\": [ 3, 0, 1, 2 ],\n",
    "        \"miso_ds_uart_map\": [ 1, 2, 3, 0 ],\n",
    "        \"mosi_uart_map\": [ 2, 3, 0, 1 ]\n",
    "    }\n",
    "}\n"
   ]
  },
  {
   "cell_type": "code",
   "execution_count": 41,
   "metadata": {},
   "outputs": [
    {
     "data": {
      "text/plain": [
       "[{'chip_id': 'ext', 'miso_us': [None, None, None, 11], 'root': True},\n",
       " {'chip_id': 11, 'miso_us': [None, None, None, 12]},\n",
       " {'chip_id': 12, 'miso_us': [None, None, None, 13]},\n",
       " {'chip_id': 13, 'miso_us': [None, None, None, 14]},\n",
       " {'chip_id': 14, 'miso_us': [None, None, None, 15]},\n",
       " {'chip_id': 15, 'miso_us': [None, None, None, 16]},\n",
       " {'chip_id': 16, 'miso_us': [None, None, None, 17]},\n",
       " {'chip_id': 17, 'miso_us': [None, None, None, 18]},\n",
       " {'chip_id': 18, 'miso_us': [None, None, None, 19]},\n",
       " {'chip_id': 19, 'miso_us': [None, None, None, 20]},\n",
       " {'chip_id': 20, 'miso_us': [None, None, 30, None]},\n",
       " {'chip_id': 30, 'miso_us': [None, 29, None, None]},\n",
       " {'chip_id': 29, 'miso_us': [None, 28, None, None]},\n",
       " {'chip_id': 28, 'miso_us': [None, 27, None, None]},\n",
       " {'chip_id': 27, 'miso_us': [None, 26, None, None]},\n",
       " {'chip_id': 26, 'miso_us': [None, 25, None, None]},\n",
       " {'chip_id': 25, 'miso_us': [None, 24, None, None]},\n",
       " {'chip_id': 24, 'miso_us': [None, 23, None, None]},\n",
       " {'chip_id': 23, 'miso_us': [None, 22, None, None]},\n",
       " {'chip_id': 22, 'miso_us': [None, 21, None, None]},\n",
       " {'chip_id': 21, 'miso_us': [None, None, 31, None]},\n",
       " {'chip_id': 31, 'miso_us': [None, None, None, 32]},\n",
       " {'chip_id': 32, 'miso_us': [None, None, None, 33]},\n",
       " {'chip_id': 33, 'miso_us': [None, None, None, 34]},\n",
       " {'chip_id': 34, 'miso_us': [None, None, None, None]}]"
      ]
     },
     "execution_count": 41,
     "metadata": {},
     "output_type": "execute_result"
    }
   ],
   "source": [
    "uart['network']['1']['1']['nodes']"
   ]
  },
  {
   "cell_type": "code",
   "execution_count": null,
   "metadata": {},
   "outputs": [],
   "source": []
  },
  {
   "cell_type": "code",
   "execution_count": 2,
   "metadata": {},
   "outputs": [],
   "source": [
    "with open(\"test.larpix\", \"w\") as file:\n",
    "    file.write(\"Hello World!\\n\")\n",
    "    file.write(\"This is a test for file extensions!\\n\")\n",
    "    file.write(\"Sub Line #1\\n\")\n",
    "    file.write(\"Sub Line #2\\n\")\n",
    "    file.write(\"Sub Line #3\\n\")\n",
    "file.close()"
   ]
  },
  {
   "cell_type": "code",
   "execution_count": 3,
   "metadata": {},
   "outputs": [],
   "source": [
    "with open(\"test.larpix\", \"r\") as file:\n",
    "    data = file.read()\n",
    "file.close()"
   ]
  },
  {
   "cell_type": "code",
   "execution_count": 6,
   "metadata": {},
   "outputs": [
    {
     "name": "stdout",
     "output_type": "stream",
     "text": [
      "Hello World!\n",
      "This is a test for file extensions!\n",
      "Sub Line #1\n",
      "Sub Line #2\n",
      "Sub Line #3\n",
      "\n"
     ]
    },
    {
     "data": {
      "text/plain": [
       "'Hello World!\\nThis is a test for file extensions!\\nSub Line #1\\nSub Line #2\\nSub Line #3\\n'"
      ]
     },
     "execution_count": 6,
     "metadata": {},
     "output_type": "execute_result"
    }
   ],
   "source": [
    "print(\"{}\".format(data))\n",
    "data"
   ]
  },
  {
   "cell_type": "code",
   "execution_count": null,
   "metadata": {},
   "outputs": [],
   "source": [
    "# in the works...\n",
    "class File:\n",
    "    '''\n",
    "    driver for the interface to read/write information\n",
    "    '''\n",
    "    def __init__(self):\n",
    "        pass\n",
    "    \n",
    "    def open_file(self):\n",
    "        '''\n",
    "        reads <file>.larpix to tile/chip objects \n",
    "        '''\n",
    "        pass\n",
    "    \n",
    "    def save_file(self):\n",
    "        '''\n",
    "        writes tile/chip objects to <file>.larpix\n",
    "        '''\n",
    "        pass\n",
    "    \n",
    "    def copy_file(self):\n",
    "        '''\n",
    "        creates and keeps a backup file with a date attached\n",
    "        '''\n",
    "        pass"
   ]
  },
  {
   "cell_type": "code",
   "execution_count": null,
   "metadata": {},
   "outputs": [],
   "source": []
  },
  {
   "cell_type": "code",
   "execution_count": null,
   "metadata": {},
   "outputs": [],
   "source": []
  },
  {
   "cell_type": "code",
   "execution_count": null,
   "metadata": {},
   "outputs": [],
   "source": []
  }
 ],
 "metadata": {
  "kernelspec": {
   "display_name": "larpix_env_kernel",
   "language": "python",
   "name": "larpix_env_kernel"
  },
  "language_info": {
   "codemirror_mode": {
    "name": "ipython",
    "version": 3
   },
   "file_extension": ".py",
   "mimetype": "text/x-python",
   "name": "python",
   "nbconvert_exporter": "python",
   "pygments_lexer": "ipython3",
   "version": "3.9.4"
  }
 },
 "nbformat": 4,
 "nbformat_minor": 4
}
